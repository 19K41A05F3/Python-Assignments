{
  "nbformat": 4,
  "nbformat_minor": 0,
  "metadata": {
    "colab": {
      "name": "Python Assignment-2",
      "provenance": [],
      "collapsed_sections": [],
      "authorship_tag": "ABX9TyPyTGPwxu1HeGODTlHGf13K",
      "include_colab_link": true
    },
    "kernelspec": {
      "name": "python3",
      "display_name": "Python 3"
    }
  },
  "cells": [
    {
      "cell_type": "markdown",
      "metadata": {
        "id": "view-in-github",
        "colab_type": "text"
      },
      "source": [
        "<a href=\"https://colab.research.google.com/github/19K41A05F3/Python-Assignments/blob/master/Python_Assignment_2.ipynb\" target=\"_parent\"><img src=\"https://colab.research.google.com/assets/colab-badge.svg\" alt=\"Open In Colab\"/></a>"
      ]
    },
    {
      "cell_type": "code",
      "metadata": {
        "id": "4AetmQXIhGrs",
        "colab_type": "code",
        "colab": {
          "base_uri": "https://localhost:8080/",
          "height": 51
        },
        "outputId": "6664fbe7-0fdb-4f2f-dc61-d258cf7176a8"
      },
      "source": [
        " \n",
        "#Question-1\n",
        "y=int(input(\"Enter year\"))\n",
        "if y%12==0 :\n",
        "  print (\"monkey\")\n",
        "elif y%12==1 :\n",
        "  print (\"rooster\")\n",
        "elif y%12==2 :\n",
        "  print (\"dog\")\n",
        "elif y%12==3 :\n",
        "  print (\"pig\")\n",
        "elif y%12==4 :\n",
        "  print (\"rat\")\n",
        "elif y%12==5 :\n",
        "  print (\"ox\")\n",
        "elif y%12==6 :\n",
        "  print (\"tiger\")\n",
        "elif y%12==7 :\n",
        "  print (\"rabbit\")\n",
        "elif y%12==8 :\n",
        "  print (\"dragon\")\n",
        "elif y%12==9 :\n",
        "  print (\"snake\")\n",
        "elif y%12==10 :\n",
        "  print (\"horse\")\n",
        "elif y%12==11 :\n",
        "  print (\"sheep\")\n",
        "else :\n",
        "  print (\"invalid\")"
      ],
      "execution_count": null,
      "outputs": [
        {
          "output_type": "stream",
          "text": [
            "Enter year2002\n",
            "horse\n"
          ],
          "name": "stdout"
        }
      ]
    },
    {
      "cell_type": "code",
      "metadata": {
        "id": "gGUOkl2GjW9r",
        "colab_type": "code",
        "colab": {
          "base_uri": "https://localhost:8080/",
          "height": 69
        },
        "outputId": "e49e8446-db2c-4949-89ea-e87a24805290"
      },
      "source": [
        "\n",
        "#Question-2\n",
        "d=float(input(\"Distance to be travelled\"))\n",
        "w=float(input(\"Weight of goods : \"))\n",
        "if d>=500 :\n",
        "  if w>=100 :\n",
        "    d=d*5\n",
        "    print(\"Amount to be charged : \",d)\n",
        "  elif w>=10 and w<100 :\n",
        "     d=d*6\n",
        "     print (\" Amount to be charged : \",d)\n",
        "  elif w<10 :\n",
        "     d=d*7\n",
        "     print (\"Amount to be charged : \",d)\n",
        "elif d<500 :\n",
        "  if w>=100 :\n",
        "    d=d*8\n",
        "    print (\"Amount to be charged : \", d)\n",
        "  elif w<100 : \n",
        "    d=d*5\n",
        "    print (\"Amount to be charged : \",d)\n",
        "else :\n",
        "  print (\"invalid\")"
      ],
      "execution_count": null,
      "outputs": [
        {
          "output_type": "stream",
          "text": [
            "Distance to be travelled520\n",
            "Weight of goods : 20\n",
            " Amount to be charged :  3120.0\n"
          ],
          "name": "stdout"
        }
      ]
    },
    {
      "cell_type": "code",
      "metadata": {
        "id": "0asqKDhpmh48",
        "colab_type": "code",
        "colab": {
          "base_uri": "https://localhost:8080/",
          "height": 138
        },
        "outputId": "50526571-ebbe-42b3-91e9-ba274f8bc4b7"
      },
      "source": [
        "\n",
        "#Question-3\n",
        "print (\"Stall=625\")\n",
        "print (\"Circle=750\")\n",
        "print (\"Upper_class=850\")\n",
        "print (\"Box=1000\")\n",
        "op=input(\"Type of seat\")\n",
        "pm=input(\"Payment mode\")\n",
        "if op == \"Stall\" :\n",
        "   if pm == 'Cash' :\n",
        "     print(\"Cost of ticket : \",(625-((625*10)/100)))\n",
        "   elif pm == 'Credit' :\n",
        "     print(\"Cost of ticket : \",(625-((625*5)/100)))\n",
        "elif op == \"Circle\" :\n",
        "   if pm == 'Cash' :\n",
        "     print(\"Cost of ticket : \",(750-((750*10)/100)))\n",
        "   elif pm == 'Credit' :\n",
        "     print(\"Cost of ticket : \",(750-((750*5)/100)))\n",
        "elif op == \"Upper_class\" :\n",
        "   if pm == 'Cash' :\n",
        "     print(\"Cost of ticket : \",(850-((850*10)/100)))\n",
        "   elif pm == 'Credit' :\n",
        "     print(\"Cost of ticket : \",(850-((850*5)/100)))\n",
        "elif op == \"Box\" :\n",
        "   if pm == 'Cash' :\n",
        "     print(\"Cost of ticket : \",(1000-((1000*10)/100)))\n",
        "   elif pm == 'Credit' :\n",
        "     print(\"Cost of ticket : \",(1000-((1000*5)/100)))\n",
        "else :\n",
        "  print (\"invalid\")"
      ],
      "execution_count": null,
      "outputs": [
        {
          "output_type": "stream",
          "text": [
            "Stall=625\n",
            "Circle=750\n",
            "Upper_class=850\n",
            "Box=1000\n",
            "Type of seatStall\n",
            "Payment modeCash\n",
            "Cost of ticket :  562.5\n"
          ],
          "name": "stdout"
        }
      ]
    },
    {
      "cell_type": "code",
      "metadata": {
        "id": "Fonbnb6qLKXg",
        "colab_type": "code",
        "colab": {
          "base_uri": "https://localhost:8080/",
          "height": 106
        },
        "outputId": "8c847ce8-9791-43d8-dabd-f598465beedb"
      },
      "source": [
        "\n",
        "#Question-4\n",
        "m=float(input(\"Enter the weight of water in kilograms\"))\n",
        "i=float(input(\"Enter the initial temperature of water in degree Celsius\"))\n",
        "f=float(input(\"Enter the final temperature of water in degree Celsius\"))\n",
        "q=m*(f-i)*4184\n",
        "print (\"Energy in joules is \",q)"
      ],
      "execution_count": null,
      "outputs": [
        {
          "output_type": "stream",
          "text": [
            "Enter the weight of water in kilograms56\n",
            "Enter the initial temperature of water in degree Celsius78\n",
            "Enter the final temperature of water in degree Celsius89\n",
            "Energy in joules is  2577344.0\n"
          ],
          "name": "stdout"
        }
      ]
    },
    {
      "cell_type": "code",
      "metadata": {
        "id": "vmlMKPK0uSWX",
        "colab_type": "code",
        "colab": {
          "base_uri": "https://localhost:8080/",
          "height": 51
        },
        "outputId": "e165e9c3-871a-4420-ed28-f6cfbb92af02"
      },
      "source": [
        "\n",
        "#Question-5\n",
        "s=input (\"Enter season\")\n",
        "if s==\"Winter\" :\n",
        "  print (\"December, January and February\")\n",
        "elif s==\"Spring\" :\n",
        "  print (\"March, April and May\")\n",
        "elif s==\"Summer\" :\n",
        "  print (\"June, July and August\")\n",
        "elif s==\"Autumn\" :\n",
        "  print (\"September, October and November\")\n",
        "else : \n",
        "  print (\"invalid\")"
      ],
      "execution_count": null,
      "outputs": [
        {
          "output_type": "stream",
          "text": [
            "Enter seasonWinter\n",
            "December, January and February\n"
          ],
          "name": "stdout"
        }
      ]
    },
    {
      "cell_type": "code",
      "metadata": {
        "id": "xE7w5TsgQWa_",
        "colab_type": "code",
        "colab": {
          "base_uri": "https://localhost:8080/",
          "height": 86
        },
        "outputId": "94349fe6-5959-416e-9b9c-ccdd798539dd"
      },
      "source": [
        "\n",
        "#Question-6\n",
        "w=float(input(\"Enter the weight in pounds\"))\n",
        "m=0.45359237*w\n",
        "h=float(input(\"Enter the height in inches\"))\n",
        "i=0.0254*h\n",
        "b=(m/(i**2))\n",
        "print (b)\n",
        "if(b<18.5) :\n",
        " print (\"Underweight\")\n",
        "elif(b>=18.5 and b<25.0) :\n",
        " print (\"Normal\")\n",
        "elif(b>=25.0 and b<30.0) :\n",
        " print (\" Overweight\")\n",
        "elif(b>=30.0) :\n",
        " print (\"Obese\")"
      ],
      "execution_count": null,
      "outputs": [
        {
          "output_type": "stream",
          "text": [
            "Enter the weight in pounds12\n",
            "Enter the height in inches12\n",
            "58.589131636596626\n",
            "Obese\n"
          ],
          "name": "stdout"
        }
      ]
    },
    {
      "cell_type": "code",
      "metadata": {
        "id": "7-tdmMbvGc3D",
        "colab_type": "code",
        "colab": {
          "base_uri": "https://localhost:8080/",
          "height": 71
        },
        "outputId": "673aac22-b00b-4fa7-ba6f-95e3d41c4c55"
      },
      "source": [
        "\n",
        "#Question-7\n",
        "i=int(input(\"Enter an integer from 100 to 1000\"))\n",
        "s=0\n",
        "while(i>0) :\n",
        "  r=i%10\n",
        "  i=i//10 \n",
        "  s=s+r\n",
        "print(\"Sum=\",s)"
      ],
      "execution_count": null,
      "outputs": [
        {
          "output_type": "stream",
          "text": [
            "Enter an integer from 100 to 1000678\n",
            "Sum= 21\n"
          ],
          "name": "stdout"
        }
      ]
    },
    {
      "cell_type": "code",
      "metadata": {
        "id": "3hm6R7kevpOS",
        "colab_type": "code",
        "colab": {
          "base_uri": "https://localhost:8080/",
          "height": 1000
        },
        "outputId": "71e4f2a9-1f2f-4a93-e684-b6e4410d1a42"
      },
      "source": [
        " #Question-8\n",
        "print (\"Palindromes are:\")\n",
        "for m in range(1,1001) :\n",
        "  i=m\n",
        "  sum=0\n",
        "  while(i>0) :\n",
        "    rev=i%10\n",
        "    i=i//10\n",
        "    sum=(sum*10)+rev\n",
        "  if(m==sum) :\n",
        "    print (m)"
      ],
      "execution_count": null,
      "outputs": [
        {
          "output_type": "stream",
          "text": [
            "Palindromes are:\n",
            "1\n",
            "2\n",
            "3\n",
            "4\n",
            "5\n",
            "6\n",
            "7\n",
            "8\n",
            "9\n",
            "11\n",
            "22\n",
            "33\n",
            "44\n",
            "55\n",
            "66\n",
            "77\n",
            "88\n",
            "99\n",
            "101\n",
            "111\n",
            "121\n",
            "131\n",
            "141\n",
            "151\n",
            "161\n",
            "171\n",
            "181\n",
            "191\n",
            "202\n",
            "212\n",
            "222\n",
            "232\n",
            "242\n",
            "252\n",
            "262\n",
            "272\n",
            "282\n",
            "292\n",
            "303\n",
            "313\n",
            "323\n",
            "333\n",
            "343\n",
            "353\n",
            "363\n",
            "373\n",
            "383\n",
            "393\n",
            "404\n",
            "414\n",
            "424\n",
            "434\n",
            "444\n",
            "454\n",
            "464\n",
            "474\n",
            "484\n",
            "494\n",
            "505\n",
            "515\n",
            "525\n",
            "535\n",
            "545\n",
            "555\n",
            "565\n",
            "575\n",
            "585\n",
            "595\n",
            "606\n",
            "616\n",
            "626\n",
            "636\n",
            "646\n",
            "656\n",
            "666\n",
            "676\n",
            "686\n",
            "696\n",
            "707\n",
            "717\n",
            "727\n",
            "737\n",
            "747\n",
            "757\n",
            "767\n",
            "777\n",
            "787\n",
            "797\n",
            "808\n",
            "818\n",
            "828\n",
            "838\n",
            "848\n",
            "858\n",
            "868\n",
            "878\n",
            "888\n",
            "898\n",
            "909\n",
            "919\n",
            "929\n",
            "939\n",
            "949\n",
            "959\n",
            "969\n",
            "979\n",
            "989\n",
            "999\n"
          ],
          "name": "stdout"
        }
      ]
    },
    {
      "cell_type": "code",
      "metadata": {
        "id": "K8k_X8o3-19q",
        "colab_type": "code",
        "colab": {
          "base_uri": "https://localhost:8080/",
          "height": 121
        },
        "outputId": "4aba4f68-763e-4363-c2f0-3f2bdd118f30"
      },
      "source": [
        " #Question-9\n",
        "print (\"Armstrong numbers : \")\n",
        "for m in range(1,1001) :\n",
        "  i=m\n",
        "  sum=0\n",
        "  while(i>0):\n",
        "    rev=i%10\n",
        "    i=i//10\n",
        "    sum=sum+(rev**3)\n",
        "  if(m==sum) :\n",
        "    print (m)"
      ],
      "execution_count": null,
      "outputs": [
        {
          "output_type": "stream",
          "text": [
            "Armstrong numbers : \n",
            "1\n",
            "153\n",
            "370\n",
            "371\n",
            "407\n"
          ],
          "name": "stdout"
        }
      ]
    },
    {
      "cell_type": "code",
      "metadata": {
        "id": "KcjFs5J56lLb",
        "colab_type": "code",
        "colab": {
          "base_uri": "https://localhost:8080/",
          "height": 1000
        },
        "outputId": "ddef0445-a197-45ae-85cc-6f2bb00fe8a9"
      },
      "source": [
        " \n",
        "#Question-10\n",
        "for i in range(1,101) :\n",
        "  if i%3==0 and i%5==0 :\n",
        "    print (\"fizz buzz\")\n",
        "  elif i%5==0 :\n",
        "    print (\"Buzz\")\n",
        "  elif (i%3==0) :\n",
        "    print (\"Fizz\")\n",
        "  else :\n",
        "    print (i)"
      ],
      "execution_count": null,
      "outputs": [
        {
          "output_type": "stream",
          "text": [
            "1\n",
            "2\n",
            "Fizz\n",
            "4\n",
            "Buzz\n",
            "Fizz\n",
            "7\n",
            "8\n",
            "Fizz\n",
            "Buzz\n",
            "11\n",
            "Fizz\n",
            "13\n",
            "14\n",
            "fizz buzz\n",
            "16\n",
            "17\n",
            "Fizz\n",
            "19\n",
            "Buzz\n",
            "Fizz\n",
            "22\n",
            "23\n",
            "Fizz\n",
            "Buzz\n",
            "26\n",
            "Fizz\n",
            "28\n",
            "29\n",
            "fizz buzz\n",
            "31\n",
            "32\n",
            "Fizz\n",
            "34\n",
            "Buzz\n",
            "Fizz\n",
            "37\n",
            "38\n",
            "Fizz\n",
            "Buzz\n",
            "41\n",
            "Fizz\n",
            "43\n",
            "44\n",
            "fizz buzz\n",
            "46\n",
            "47\n",
            "Fizz\n",
            "49\n",
            "Buzz\n",
            "Fizz\n",
            "52\n",
            "53\n",
            "Fizz\n",
            "Buzz\n",
            "56\n",
            "Fizz\n",
            "58\n",
            "59\n",
            "fizz buzz\n",
            "61\n",
            "62\n",
            "Fizz\n",
            "64\n",
            "Buzz\n",
            "Fizz\n",
            "67\n",
            "68\n",
            "Fizz\n",
            "Buzz\n",
            "71\n",
            "Fizz\n",
            "73\n",
            "74\n",
            "fizz buzz\n",
            "76\n",
            "77\n",
            "Fizz\n",
            "79\n",
            "Buzz\n",
            "Fizz\n",
            "82\n",
            "83\n",
            "Fizz\n",
            "Buzz\n",
            "86\n",
            "Fizz\n",
            "88\n",
            "89\n",
            "fizz buzz\n",
            "91\n",
            "92\n",
            "Fizz\n",
            "94\n",
            "Buzz\n",
            "Fizz\n",
            "97\n",
            "98\n",
            "Fizz\n",
            "Buzz\n"
          ],
          "name": "stdout"
        }
      ]
    },
    {
      "cell_type": "code",
      "metadata": {
        "id": "L4Hcj1VMJMz4",
        "colab_type": "code",
        "colab": {
          "base_uri": "https://localhost:8080/",
          "height": 106
        },
        "outputId": "9162acb3-4c5e-4c64-b713-7954bd3cf3f2"
      },
      "source": [
        "#Question-11\n",
        "H=int(input(\"Enter the height of the well\"))\n",
        "U=int(input(\"Enter the meters climbed by the spider \"))\n",
        "D=int(input(\"Enter the meters sliped down by the spider\"))\n",
        "N=((H-U)+(U-D))//(U-D)\n",
        "print(N+1)"
      ],
      "execution_count": null,
      "outputs": [
        {
          "output_type": "stream",
          "text": [
            "Enter the height of the well200\n",
            "Enter the meters climbed by the spider 50\n",
            "Enter the meters sliped down by the spider1\n",
            "5\n"
          ],
          "name": "stdout"
        }
      ]
    }
  ]
}